{
 "metadata": {
  "name": "",
  "signature": "sha256:404372b28d9b2e706b3cb3dc30bb505863ce222615881a69c06f58c23bc94dfd"
 },
 "nbformat": 3,
 "nbformat_minor": 0,
 "worksheets": []
}